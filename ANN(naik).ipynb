{
  "nbformat": 4,
  "nbformat_minor": 0,
  "metadata": {
    "colab": {
      "name": "ANN(naik).ipynb",
      "provenance": [],
      "collapsed_sections": [],
      "authorship_tag": "ABX9TyN6HOvmKip655MQNodHe+iu",
      "include_colab_link": true
    },
    "kernelspec": {
      "name": "python3",
      "display_name": "Python 3"
    }
  },
  "cells": [
    {
      "cell_type": "markdown",
      "metadata": {
        "id": "view-in-github",
        "colab_type": "text"
      },
      "source": [
        "<a href=\"https://colab.research.google.com/github/Anikhossainjoy/For-ML/blob/master/ANN(naik).ipynb\" target=\"_parent\"><img src=\"https://colab.research.google.com/assets/colab-badge.svg\" alt=\"Open In Colab\"/></a>"
      ]
    },
    {
      "cell_type": "code",
      "metadata": {
        "id": "CGnHsHT1O3SM",
        "colab_type": "code",
        "colab": {}
      },
      "source": [
        "import numpy as num\n",
        "import matplotlib as plt\n",
        "import pandas as pd"
      ],
      "execution_count": 1,
      "outputs": []
    },
    {
      "cell_type": "code",
      "metadata": {
        "id": "NQjZC9BFPADH",
        "colab_type": "code",
        "colab": {}
      },
      "source": [
        "df=pd.read_csv('/content/sample_data/datasets_13214_17927_Churn_Modelling.csv')"
      ],
      "execution_count": 3,
      "outputs": []
    },
    {
      "cell_type": "code",
      "metadata": {
        "id": "KOiSDvXXQFs5",
        "colab_type": "code",
        "colab": {}
      },
      "source": [
        "x=df.iloc[:,3:13]\n",
        "y=df.iloc[:,13]"
      ],
      "execution_count": 4,
      "outputs": []
    },
    {
      "cell_type": "code",
      "metadata": {
        "id": "ofdcV8oRQVaM",
        "colab_type": "code",
        "colab": {
          "base_uri": "https://localhost:8080/",
          "height": 224
        },
        "outputId": "039804a5-0d5a-4dad-da5e-080634804912"
      },
      "source": [
        "df.head(5)"
      ],
      "execution_count": 5,
      "outputs": [
        {
          "output_type": "execute_result",
          "data": {
            "text/html": [
              "<div>\n",
              "<style scoped>\n",
              "    .dataframe tbody tr th:only-of-type {\n",
              "        vertical-align: middle;\n",
              "    }\n",
              "\n",
              "    .dataframe tbody tr th {\n",
              "        vertical-align: top;\n",
              "    }\n",
              "\n",
              "    .dataframe thead th {\n",
              "        text-align: right;\n",
              "    }\n",
              "</style>\n",
              "<table border=\"1\" class=\"dataframe\">\n",
              "  <thead>\n",
              "    <tr style=\"text-align: right;\">\n",
              "      <th></th>\n",
              "      <th>RowNumber</th>\n",
              "      <th>CustomerId</th>\n",
              "      <th>Surname</th>\n",
              "      <th>CreditScore</th>\n",
              "      <th>Geography</th>\n",
              "      <th>Gender</th>\n",
              "      <th>Age</th>\n",
              "      <th>Tenure</th>\n",
              "      <th>Balance</th>\n",
              "      <th>NumOfProducts</th>\n",
              "      <th>HasCrCard</th>\n",
              "      <th>IsActiveMember</th>\n",
              "      <th>EstimatedSalary</th>\n",
              "      <th>Exited</th>\n",
              "    </tr>\n",
              "  </thead>\n",
              "  <tbody>\n",
              "    <tr>\n",
              "      <th>0</th>\n",
              "      <td>1</td>\n",
              "      <td>15634602</td>\n",
              "      <td>Hargrave</td>\n",
              "      <td>619</td>\n",
              "      <td>France</td>\n",
              "      <td>Female</td>\n",
              "      <td>42</td>\n",
              "      <td>2</td>\n",
              "      <td>0.00</td>\n",
              "      <td>1</td>\n",
              "      <td>1</td>\n",
              "      <td>1</td>\n",
              "      <td>101348.88</td>\n",
              "      <td>1</td>\n",
              "    </tr>\n",
              "    <tr>\n",
              "      <th>1</th>\n",
              "      <td>2</td>\n",
              "      <td>15647311</td>\n",
              "      <td>Hill</td>\n",
              "      <td>608</td>\n",
              "      <td>Spain</td>\n",
              "      <td>Female</td>\n",
              "      <td>41</td>\n",
              "      <td>1</td>\n",
              "      <td>83807.86</td>\n",
              "      <td>1</td>\n",
              "      <td>0</td>\n",
              "      <td>1</td>\n",
              "      <td>112542.58</td>\n",
              "      <td>0</td>\n",
              "    </tr>\n",
              "    <tr>\n",
              "      <th>2</th>\n",
              "      <td>3</td>\n",
              "      <td>15619304</td>\n",
              "      <td>Onio</td>\n",
              "      <td>502</td>\n",
              "      <td>France</td>\n",
              "      <td>Female</td>\n",
              "      <td>42</td>\n",
              "      <td>8</td>\n",
              "      <td>159660.80</td>\n",
              "      <td>3</td>\n",
              "      <td>1</td>\n",
              "      <td>0</td>\n",
              "      <td>113931.57</td>\n",
              "      <td>1</td>\n",
              "    </tr>\n",
              "    <tr>\n",
              "      <th>3</th>\n",
              "      <td>4</td>\n",
              "      <td>15701354</td>\n",
              "      <td>Boni</td>\n",
              "      <td>699</td>\n",
              "      <td>France</td>\n",
              "      <td>Female</td>\n",
              "      <td>39</td>\n",
              "      <td>1</td>\n",
              "      <td>0.00</td>\n",
              "      <td>2</td>\n",
              "      <td>0</td>\n",
              "      <td>0</td>\n",
              "      <td>93826.63</td>\n",
              "      <td>0</td>\n",
              "    </tr>\n",
              "    <tr>\n",
              "      <th>4</th>\n",
              "      <td>5</td>\n",
              "      <td>15737888</td>\n",
              "      <td>Mitchell</td>\n",
              "      <td>850</td>\n",
              "      <td>Spain</td>\n",
              "      <td>Female</td>\n",
              "      <td>43</td>\n",
              "      <td>2</td>\n",
              "      <td>125510.82</td>\n",
              "      <td>1</td>\n",
              "      <td>1</td>\n",
              "      <td>1</td>\n",
              "      <td>79084.10</td>\n",
              "      <td>0</td>\n",
              "    </tr>\n",
              "  </tbody>\n",
              "</table>\n",
              "</div>"
            ],
            "text/plain": [
              "   RowNumber  CustomerId   Surname  ...  IsActiveMember EstimatedSalary Exited\n",
              "0          1    15634602  Hargrave  ...               1       101348.88      1\n",
              "1          2    15647311      Hill  ...               1       112542.58      0\n",
              "2          3    15619304      Onio  ...               0       113931.57      1\n",
              "3          4    15701354      Boni  ...               0        93826.63      0\n",
              "4          5    15737888  Mitchell  ...               1        79084.10      0\n",
              "\n",
              "[5 rows x 14 columns]"
            ]
          },
          "metadata": {
            "tags": []
          },
          "execution_count": 5
        }
      ]
    },
    {
      "cell_type": "code",
      "metadata": {
        "id": "Iuw1zw_EQW46",
        "colab_type": "code",
        "colab": {}
      },
      "source": [
        "geography=pd.get_dummies(x['Geography'],drop_first=True)"
      ],
      "execution_count": 6,
      "outputs": []
    },
    {
      "cell_type": "code",
      "metadata": {
        "id": "wL7NX552QtwP",
        "colab_type": "code",
        "colab": {}
      },
      "source": [
        "gender=pd.get_dummies(x['Gender'],drop_first=True)"
      ],
      "execution_count": 8,
      "outputs": []
    },
    {
      "cell_type": "code",
      "metadata": {
        "id": "3POUxCVDQ4nh",
        "colab_type": "code",
        "colab": {}
      },
      "source": [
        "x=pd.concat((x,geography,gender),axis=1)"
      ],
      "execution_count": 9,
      "outputs": []
    },
    {
      "cell_type": "code",
      "metadata": {
        "id": "7rIH6P1WRNMf",
        "colab_type": "code",
        "colab": {
          "base_uri": "https://localhost:8080/",
          "height": 439
        },
        "outputId": "be9890dc-ec4c-4bdf-e283-34d01ec702b7"
      },
      "source": [
        "x"
      ],
      "execution_count": 10,
      "outputs": [
        {
          "output_type": "execute_result",
          "data": {
            "text/html": [
              "<div>\n",
              "<style scoped>\n",
              "    .dataframe tbody tr th:only-of-type {\n",
              "        vertical-align: middle;\n",
              "    }\n",
              "\n",
              "    .dataframe tbody tr th {\n",
              "        vertical-align: top;\n",
              "    }\n",
              "\n",
              "    .dataframe thead th {\n",
              "        text-align: right;\n",
              "    }\n",
              "</style>\n",
              "<table border=\"1\" class=\"dataframe\">\n",
              "  <thead>\n",
              "    <tr style=\"text-align: right;\">\n",
              "      <th></th>\n",
              "      <th>CreditScore</th>\n",
              "      <th>Geography</th>\n",
              "      <th>Gender</th>\n",
              "      <th>Age</th>\n",
              "      <th>Tenure</th>\n",
              "      <th>Balance</th>\n",
              "      <th>NumOfProducts</th>\n",
              "      <th>HasCrCard</th>\n",
              "      <th>IsActiveMember</th>\n",
              "      <th>EstimatedSalary</th>\n",
              "      <th>Germany</th>\n",
              "      <th>Spain</th>\n",
              "      <th>Male</th>\n",
              "    </tr>\n",
              "  </thead>\n",
              "  <tbody>\n",
              "    <tr>\n",
              "      <th>0</th>\n",
              "      <td>619</td>\n",
              "      <td>France</td>\n",
              "      <td>Female</td>\n",
              "      <td>42</td>\n",
              "      <td>2</td>\n",
              "      <td>0.00</td>\n",
              "      <td>1</td>\n",
              "      <td>1</td>\n",
              "      <td>1</td>\n",
              "      <td>101348.88</td>\n",
              "      <td>0</td>\n",
              "      <td>0</td>\n",
              "      <td>0</td>\n",
              "    </tr>\n",
              "    <tr>\n",
              "      <th>1</th>\n",
              "      <td>608</td>\n",
              "      <td>Spain</td>\n",
              "      <td>Female</td>\n",
              "      <td>41</td>\n",
              "      <td>1</td>\n",
              "      <td>83807.86</td>\n",
              "      <td>1</td>\n",
              "      <td>0</td>\n",
              "      <td>1</td>\n",
              "      <td>112542.58</td>\n",
              "      <td>0</td>\n",
              "      <td>1</td>\n",
              "      <td>0</td>\n",
              "    </tr>\n",
              "    <tr>\n",
              "      <th>2</th>\n",
              "      <td>502</td>\n",
              "      <td>France</td>\n",
              "      <td>Female</td>\n",
              "      <td>42</td>\n",
              "      <td>8</td>\n",
              "      <td>159660.80</td>\n",
              "      <td>3</td>\n",
              "      <td>1</td>\n",
              "      <td>0</td>\n",
              "      <td>113931.57</td>\n",
              "      <td>0</td>\n",
              "      <td>0</td>\n",
              "      <td>0</td>\n",
              "    </tr>\n",
              "    <tr>\n",
              "      <th>3</th>\n",
              "      <td>699</td>\n",
              "      <td>France</td>\n",
              "      <td>Female</td>\n",
              "      <td>39</td>\n",
              "      <td>1</td>\n",
              "      <td>0.00</td>\n",
              "      <td>2</td>\n",
              "      <td>0</td>\n",
              "      <td>0</td>\n",
              "      <td>93826.63</td>\n",
              "      <td>0</td>\n",
              "      <td>0</td>\n",
              "      <td>0</td>\n",
              "    </tr>\n",
              "    <tr>\n",
              "      <th>4</th>\n",
              "      <td>850</td>\n",
              "      <td>Spain</td>\n",
              "      <td>Female</td>\n",
              "      <td>43</td>\n",
              "      <td>2</td>\n",
              "      <td>125510.82</td>\n",
              "      <td>1</td>\n",
              "      <td>1</td>\n",
              "      <td>1</td>\n",
              "      <td>79084.10</td>\n",
              "      <td>0</td>\n",
              "      <td>1</td>\n",
              "      <td>0</td>\n",
              "    </tr>\n",
              "    <tr>\n",
              "      <th>...</th>\n",
              "      <td>...</td>\n",
              "      <td>...</td>\n",
              "      <td>...</td>\n",
              "      <td>...</td>\n",
              "      <td>...</td>\n",
              "      <td>...</td>\n",
              "      <td>...</td>\n",
              "      <td>...</td>\n",
              "      <td>...</td>\n",
              "      <td>...</td>\n",
              "      <td>...</td>\n",
              "      <td>...</td>\n",
              "      <td>...</td>\n",
              "    </tr>\n",
              "    <tr>\n",
              "      <th>9995</th>\n",
              "      <td>771</td>\n",
              "      <td>France</td>\n",
              "      <td>Male</td>\n",
              "      <td>39</td>\n",
              "      <td>5</td>\n",
              "      <td>0.00</td>\n",
              "      <td>2</td>\n",
              "      <td>1</td>\n",
              "      <td>0</td>\n",
              "      <td>96270.64</td>\n",
              "      <td>0</td>\n",
              "      <td>0</td>\n",
              "      <td>1</td>\n",
              "    </tr>\n",
              "    <tr>\n",
              "      <th>9996</th>\n",
              "      <td>516</td>\n",
              "      <td>France</td>\n",
              "      <td>Male</td>\n",
              "      <td>35</td>\n",
              "      <td>10</td>\n",
              "      <td>57369.61</td>\n",
              "      <td>1</td>\n",
              "      <td>1</td>\n",
              "      <td>1</td>\n",
              "      <td>101699.77</td>\n",
              "      <td>0</td>\n",
              "      <td>0</td>\n",
              "      <td>1</td>\n",
              "    </tr>\n",
              "    <tr>\n",
              "      <th>9997</th>\n",
              "      <td>709</td>\n",
              "      <td>France</td>\n",
              "      <td>Female</td>\n",
              "      <td>36</td>\n",
              "      <td>7</td>\n",
              "      <td>0.00</td>\n",
              "      <td>1</td>\n",
              "      <td>0</td>\n",
              "      <td>1</td>\n",
              "      <td>42085.58</td>\n",
              "      <td>0</td>\n",
              "      <td>0</td>\n",
              "      <td>0</td>\n",
              "    </tr>\n",
              "    <tr>\n",
              "      <th>9998</th>\n",
              "      <td>772</td>\n",
              "      <td>Germany</td>\n",
              "      <td>Male</td>\n",
              "      <td>42</td>\n",
              "      <td>3</td>\n",
              "      <td>75075.31</td>\n",
              "      <td>2</td>\n",
              "      <td>1</td>\n",
              "      <td>0</td>\n",
              "      <td>92888.52</td>\n",
              "      <td>1</td>\n",
              "      <td>0</td>\n",
              "      <td>1</td>\n",
              "    </tr>\n",
              "    <tr>\n",
              "      <th>9999</th>\n",
              "      <td>792</td>\n",
              "      <td>France</td>\n",
              "      <td>Female</td>\n",
              "      <td>28</td>\n",
              "      <td>4</td>\n",
              "      <td>130142.79</td>\n",
              "      <td>1</td>\n",
              "      <td>1</td>\n",
              "      <td>0</td>\n",
              "      <td>38190.78</td>\n",
              "      <td>0</td>\n",
              "      <td>0</td>\n",
              "      <td>0</td>\n",
              "    </tr>\n",
              "  </tbody>\n",
              "</table>\n",
              "<p>10000 rows × 13 columns</p>\n",
              "</div>"
            ],
            "text/plain": [
              "      CreditScore Geography  Gender  Age  ...  EstimatedSalary  Germany  Spain  Male\n",
              "0             619    France  Female   42  ...        101348.88        0      0     0\n",
              "1             608     Spain  Female   41  ...        112542.58        0      1     0\n",
              "2             502    France  Female   42  ...        113931.57        0      0     0\n",
              "3             699    France  Female   39  ...         93826.63        0      0     0\n",
              "4             850     Spain  Female   43  ...         79084.10        0      1     0\n",
              "...           ...       ...     ...  ...  ...              ...      ...    ...   ...\n",
              "9995          771    France    Male   39  ...         96270.64        0      0     1\n",
              "9996          516    France    Male   35  ...        101699.77        0      0     1\n",
              "9997          709    France  Female   36  ...         42085.58        0      0     0\n",
              "9998          772   Germany    Male   42  ...         92888.52        1      0     1\n",
              "9999          792    France  Female   28  ...         38190.78        0      0     0\n",
              "\n",
              "[10000 rows x 13 columns]"
            ]
          },
          "metadata": {
            "tags": []
          },
          "execution_count": 10
        }
      ]
    },
    {
      "cell_type": "code",
      "metadata": {
        "id": "bFj60mceROQq",
        "colab_type": "code",
        "colab": {}
      },
      "source": [
        "x=x.drop(['Geography','Gender'],axis=1)"
      ],
      "execution_count": 11,
      "outputs": []
    },
    {
      "cell_type": "code",
      "metadata": {
        "id": "pcT6boRzRhOz",
        "colab_type": "code",
        "colab": {
          "base_uri": "https://localhost:8080/",
          "height": 439
        },
        "outputId": "7ecd84d7-46e6-4858-ffe6-8859c58954cd"
      },
      "source": [
        "x"
      ],
      "execution_count": 12,
      "outputs": [
        {
          "output_type": "execute_result",
          "data": {
            "text/html": [
              "<div>\n",
              "<style scoped>\n",
              "    .dataframe tbody tr th:only-of-type {\n",
              "        vertical-align: middle;\n",
              "    }\n",
              "\n",
              "    .dataframe tbody tr th {\n",
              "        vertical-align: top;\n",
              "    }\n",
              "\n",
              "    .dataframe thead th {\n",
              "        text-align: right;\n",
              "    }\n",
              "</style>\n",
              "<table border=\"1\" class=\"dataframe\">\n",
              "  <thead>\n",
              "    <tr style=\"text-align: right;\">\n",
              "      <th></th>\n",
              "      <th>CreditScore</th>\n",
              "      <th>Age</th>\n",
              "      <th>Tenure</th>\n",
              "      <th>Balance</th>\n",
              "      <th>NumOfProducts</th>\n",
              "      <th>HasCrCard</th>\n",
              "      <th>IsActiveMember</th>\n",
              "      <th>EstimatedSalary</th>\n",
              "      <th>Germany</th>\n",
              "      <th>Spain</th>\n",
              "      <th>Male</th>\n",
              "    </tr>\n",
              "  </thead>\n",
              "  <tbody>\n",
              "    <tr>\n",
              "      <th>0</th>\n",
              "      <td>619</td>\n",
              "      <td>42</td>\n",
              "      <td>2</td>\n",
              "      <td>0.00</td>\n",
              "      <td>1</td>\n",
              "      <td>1</td>\n",
              "      <td>1</td>\n",
              "      <td>101348.88</td>\n",
              "      <td>0</td>\n",
              "      <td>0</td>\n",
              "      <td>0</td>\n",
              "    </tr>\n",
              "    <tr>\n",
              "      <th>1</th>\n",
              "      <td>608</td>\n",
              "      <td>41</td>\n",
              "      <td>1</td>\n",
              "      <td>83807.86</td>\n",
              "      <td>1</td>\n",
              "      <td>0</td>\n",
              "      <td>1</td>\n",
              "      <td>112542.58</td>\n",
              "      <td>0</td>\n",
              "      <td>1</td>\n",
              "      <td>0</td>\n",
              "    </tr>\n",
              "    <tr>\n",
              "      <th>2</th>\n",
              "      <td>502</td>\n",
              "      <td>42</td>\n",
              "      <td>8</td>\n",
              "      <td>159660.80</td>\n",
              "      <td>3</td>\n",
              "      <td>1</td>\n",
              "      <td>0</td>\n",
              "      <td>113931.57</td>\n",
              "      <td>0</td>\n",
              "      <td>0</td>\n",
              "      <td>0</td>\n",
              "    </tr>\n",
              "    <tr>\n",
              "      <th>3</th>\n",
              "      <td>699</td>\n",
              "      <td>39</td>\n",
              "      <td>1</td>\n",
              "      <td>0.00</td>\n",
              "      <td>2</td>\n",
              "      <td>0</td>\n",
              "      <td>0</td>\n",
              "      <td>93826.63</td>\n",
              "      <td>0</td>\n",
              "      <td>0</td>\n",
              "      <td>0</td>\n",
              "    </tr>\n",
              "    <tr>\n",
              "      <th>4</th>\n",
              "      <td>850</td>\n",
              "      <td>43</td>\n",
              "      <td>2</td>\n",
              "      <td>125510.82</td>\n",
              "      <td>1</td>\n",
              "      <td>1</td>\n",
              "      <td>1</td>\n",
              "      <td>79084.10</td>\n",
              "      <td>0</td>\n",
              "      <td>1</td>\n",
              "      <td>0</td>\n",
              "    </tr>\n",
              "    <tr>\n",
              "      <th>...</th>\n",
              "      <td>...</td>\n",
              "      <td>...</td>\n",
              "      <td>...</td>\n",
              "      <td>...</td>\n",
              "      <td>...</td>\n",
              "      <td>...</td>\n",
              "      <td>...</td>\n",
              "      <td>...</td>\n",
              "      <td>...</td>\n",
              "      <td>...</td>\n",
              "      <td>...</td>\n",
              "    </tr>\n",
              "    <tr>\n",
              "      <th>9995</th>\n",
              "      <td>771</td>\n",
              "      <td>39</td>\n",
              "      <td>5</td>\n",
              "      <td>0.00</td>\n",
              "      <td>2</td>\n",
              "      <td>1</td>\n",
              "      <td>0</td>\n",
              "      <td>96270.64</td>\n",
              "      <td>0</td>\n",
              "      <td>0</td>\n",
              "      <td>1</td>\n",
              "    </tr>\n",
              "    <tr>\n",
              "      <th>9996</th>\n",
              "      <td>516</td>\n",
              "      <td>35</td>\n",
              "      <td>10</td>\n",
              "      <td>57369.61</td>\n",
              "      <td>1</td>\n",
              "      <td>1</td>\n",
              "      <td>1</td>\n",
              "      <td>101699.77</td>\n",
              "      <td>0</td>\n",
              "      <td>0</td>\n",
              "      <td>1</td>\n",
              "    </tr>\n",
              "    <tr>\n",
              "      <th>9997</th>\n",
              "      <td>709</td>\n",
              "      <td>36</td>\n",
              "      <td>7</td>\n",
              "      <td>0.00</td>\n",
              "      <td>1</td>\n",
              "      <td>0</td>\n",
              "      <td>1</td>\n",
              "      <td>42085.58</td>\n",
              "      <td>0</td>\n",
              "      <td>0</td>\n",
              "      <td>0</td>\n",
              "    </tr>\n",
              "    <tr>\n",
              "      <th>9998</th>\n",
              "      <td>772</td>\n",
              "      <td>42</td>\n",
              "      <td>3</td>\n",
              "      <td>75075.31</td>\n",
              "      <td>2</td>\n",
              "      <td>1</td>\n",
              "      <td>0</td>\n",
              "      <td>92888.52</td>\n",
              "      <td>1</td>\n",
              "      <td>0</td>\n",
              "      <td>1</td>\n",
              "    </tr>\n",
              "    <tr>\n",
              "      <th>9999</th>\n",
              "      <td>792</td>\n",
              "      <td>28</td>\n",
              "      <td>4</td>\n",
              "      <td>130142.79</td>\n",
              "      <td>1</td>\n",
              "      <td>1</td>\n",
              "      <td>0</td>\n",
              "      <td>38190.78</td>\n",
              "      <td>0</td>\n",
              "      <td>0</td>\n",
              "      <td>0</td>\n",
              "    </tr>\n",
              "  </tbody>\n",
              "</table>\n",
              "<p>10000 rows × 11 columns</p>\n",
              "</div>"
            ],
            "text/plain": [
              "      CreditScore  Age  Tenure  ...  Germany  Spain  Male\n",
              "0             619   42       2  ...        0      0     0\n",
              "1             608   41       1  ...        0      1     0\n",
              "2             502   42       8  ...        0      0     0\n",
              "3             699   39       1  ...        0      0     0\n",
              "4             850   43       2  ...        0      1     0\n",
              "...           ...  ...     ...  ...      ...    ...   ...\n",
              "9995          771   39       5  ...        0      0     1\n",
              "9996          516   35      10  ...        0      0     1\n",
              "9997          709   36       7  ...        0      0     0\n",
              "9998          772   42       3  ...        1      0     1\n",
              "9999          792   28       4  ...        0      0     0\n",
              "\n",
              "[10000 rows x 11 columns]"
            ]
          },
          "metadata": {
            "tags": []
          },
          "execution_count": 12
        }
      ]
    },
    {
      "cell_type": "code",
      "metadata": {
        "id": "AS0GW-MiRh5M",
        "colab_type": "code",
        "colab": {}
      },
      "source": [
        "from sklearn.model_selection import train_test_split\n",
        "X_train,X_test,y_train,y_test=train_test_split(x,y,test_size=.2,random_state=0)"
      ],
      "execution_count": 13,
      "outputs": []
    },
    {
      "cell_type": "code",
      "metadata": {
        "id": "xrba69P0SGN1",
        "colab_type": "code",
        "colab": {}
      },
      "source": [
        "from sklearn.preprocessing import StandardScaler\n",
        "sc=StandardScaler()\n",
        "X_train=sc.fit_transform(X_train)\n",
        "X_test=sc.transform(X_test)"
      ],
      "execution_count": 14,
      "outputs": []
    },
    {
      "cell_type": "code",
      "metadata": {
        "id": "EDomUlNFThfy",
        "colab_type": "code",
        "colab": {
          "base_uri": "https://localhost:8080/",
          "height": 238
        },
        "outputId": "7e38efa2-c045-4968-c59b-8278903ede66"
      },
      "source": [
        "X_test"
      ],
      "execution_count": 16,
      "outputs": [
        {
          "output_type": "execute_result",
          "data": {
            "text/plain": [
              "array([[-0.55204276, -0.36890377,  1.04473698, ...,  1.75486502,\n",
              "        -0.57369368, -1.09168714],\n",
              "       [-1.31490297,  0.10961719, -1.031415  , ..., -0.5698444 ,\n",
              "        -0.57369368, -1.09168714],\n",
              "       [ 0.57162971,  0.30102557,  1.04473698, ..., -0.5698444 ,\n",
              "         1.74309049, -1.09168714],\n",
              "       ...,\n",
              "       [-0.74791227, -0.27319958, -1.37744033, ..., -0.5698444 ,\n",
              "         1.74309049,  0.91601335],\n",
              "       [-0.00566991, -0.46460796, -0.33936434, ...,  1.75486502,\n",
              "        -0.57369368,  0.91601335],\n",
              "       [-0.79945688, -0.84742473,  1.04473698, ...,  1.75486502,\n",
              "        -0.57369368,  0.91601335]])"
            ]
          },
          "metadata": {
            "tags": []
          },
          "execution_count": 16
        }
      ]
    },
    {
      "cell_type": "code",
      "metadata": {
        "id": "ZofMpcP4Tkgp",
        "colab_type": "code",
        "colab": {}
      },
      "source": [
        "import keras\n",
        "from keras.models import Sequential #creating envornment\n",
        "from keras.layers import Dense # for hidden layer\n",
        "from keras.layers import Dropout"
      ],
      "execution_count": 17,
      "outputs": []
    },
    {
      "cell_type": "code",
      "metadata": {
        "id": "eMOxRTNzUXIZ",
        "colab_type": "code",
        "colab": {}
      },
      "source": [
        "classifier=Sequential()"
      ],
      "execution_count": 18,
      "outputs": []
    },
    {
      "cell_type": "code",
      "metadata": {
        "id": "gZ-e-1WcUmO_",
        "colab_type": "code",
        "colab": {}
      },
      "source": [
        "classifier.add(Dense(units=10,kernel_initializer='he_normal',activation='relu',input_dim=11))\n",
        "classifier.add(Dropout(.3))"
      ],
      "execution_count": 59,
      "outputs": []
    },
    {
      "cell_type": "code",
      "metadata": {
        "id": "fskHIXIZVXOg",
        "colab_type": "code",
        "colab": {}
      },
      "source": [
        "classifier.add(Dense(units=20,kernel_initializer='he_normal',activation='relu'))\n",
        "classifier.add(Dropout(.4))\n",
        "classifier.add(Dense(units=15,kernel_initializer='he_normal',activation='relu'))\n",
        "classifier.add(Dropout(.3))"
      ],
      "execution_count": 60,
      "outputs": []
    },
    {
      "cell_type": "code",
      "metadata": {
        "id": "Q5e9RAPHVp7g",
        "colab_type": "code",
        "colab": {}
      },
      "source": [
        "classifier.add(Dense(units=1,kernel_initializer='glorot_uniform',activation='sigmoid',input_dim=11))"
      ],
      "execution_count": 61,
      "outputs": []
    },
    {
      "cell_type": "code",
      "metadata": {
        "id": "Mh-Uefw0WW-X",
        "colab_type": "code",
        "colab": {
          "base_uri": "https://localhost:8080/",
          "height": 255
        },
        "outputId": "ae8272c4-56ec-46a4-ed4a-e52a3235cdc6"
      },
      "source": [
        "classifier.summary()"
      ],
      "execution_count": 22,
      "outputs": [
        {
          "output_type": "stream",
          "text": [
            "Model: \"sequential_1\"\n",
            "_________________________________________________________________\n",
            "Layer (type)                 Output Shape              Param #   \n",
            "=================================================================\n",
            "dense_1 (Dense)              (None, 6)                 72        \n",
            "_________________________________________________________________\n",
            "dense_2 (Dense)              (None, 6)                 42        \n",
            "_________________________________________________________________\n",
            "dense_3 (Dense)              (None, 6)                 42        \n",
            "=================================================================\n",
            "Total params: 156\n",
            "Trainable params: 156\n",
            "Non-trainable params: 0\n",
            "_________________________________________________________________\n"
          ],
          "name": "stdout"
        }
      ]
    },
    {
      "cell_type": "code",
      "metadata": {
        "id": "AqpYntf4We5e",
        "colab_type": "code",
        "colab": {}
      },
      "source": [
        "classifier.compile(optimizer='adam' ,loss='binary_crossentropy',metrics=['accuracy'])"
      ],
      "execution_count": 62,
      "outputs": []
    },
    {
      "cell_type": "code",
      "metadata": {
        "id": "XClXX_QrXa8D",
        "colab_type": "code",
        "colab": {
          "base_uri": "https://localhost:8080/",
          "height": 1000
        },
        "outputId": "b55d092a-94ff-4b18-9fda-b17cac9d38dc"
      },
      "source": [
        "model_history=classifier.fit(X_train,y_train,validation_split=.33,batch_size=10,nb_epoch=100)"
      ],
      "execution_count": 63,
      "outputs": [
        {
          "output_type": "stream",
          "text": [
            "/usr/local/lib/python3.6/dist-packages/ipykernel_launcher.py:1: UserWarning: The `nb_epoch` argument in `fit` has been renamed `epochs`.\n",
            "  \"\"\"Entry point for launching an IPython kernel.\n"
          ],
          "name": "stderr"
        },
        {
          "output_type": "stream",
          "text": [
            "Train on 5359 samples, validate on 2641 samples\n",
            "Epoch 1/100\n",
            "5359/5359 [==============================] - 1s 273us/step - loss: 0.5328 - accuracy: 0.7960 - val_loss: 0.4318 - val_accuracy: 0.7955\n",
            "Epoch 2/100\n",
            "5359/5359 [==============================] - 1s 223us/step - loss: 0.4197 - accuracy: 0.7962 - val_loss: 0.3956 - val_accuracy: 0.7955\n",
            "Epoch 3/100\n",
            "5359/5359 [==============================] - 1s 240us/step - loss: 0.3954 - accuracy: 0.8231 - val_loss: 0.3912 - val_accuracy: 0.8474\n",
            "Epoch 4/100\n",
            "5359/5359 [==============================] - 1s 233us/step - loss: 0.3796 - accuracy: 0.8302 - val_loss: 0.4097 - val_accuracy: 0.8315\n",
            "Epoch 5/100\n",
            "5359/5359 [==============================] - 1s 199us/step - loss: 0.3794 - accuracy: 0.8362 - val_loss: 0.3820 - val_accuracy: 0.8455\n",
            "Epoch 6/100\n",
            "5359/5359 [==============================] - 1s 202us/step - loss: 0.3723 - accuracy: 0.8427 - val_loss: 0.3870 - val_accuracy: 0.8497\n",
            "Epoch 7/100\n",
            "5359/5359 [==============================] - 1s 203us/step - loss: 0.3753 - accuracy: 0.8360 - val_loss: 0.4296 - val_accuracy: 0.8183\n",
            "Epoch 8/100\n",
            "5359/5359 [==============================] - 1s 204us/step - loss: 0.3757 - accuracy: 0.8350 - val_loss: 0.4084 - val_accuracy: 0.8342\n",
            "Epoch 9/100\n",
            "5359/5359 [==============================] - 1s 231us/step - loss: 0.3710 - accuracy: 0.8356 - val_loss: 0.3839 - val_accuracy: 0.8519\n",
            "Epoch 10/100\n",
            "5359/5359 [==============================] - 1s 223us/step - loss: 0.3682 - accuracy: 0.8423 - val_loss: 0.4153 - val_accuracy: 0.8391\n",
            "Epoch 11/100\n",
            "5359/5359 [==============================] - 1s 201us/step - loss: 0.3649 - accuracy: 0.8393 - val_loss: 0.4056 - val_accuracy: 0.8542\n",
            "Epoch 12/100\n",
            "5359/5359 [==============================] - 1s 199us/step - loss: 0.3661 - accuracy: 0.8403 - val_loss: 0.3798 - val_accuracy: 0.8531\n",
            "Epoch 13/100\n",
            "5359/5359 [==============================] - 1s 202us/step - loss: 0.3678 - accuracy: 0.8390 - val_loss: 0.3837 - val_accuracy: 0.8538\n",
            "Epoch 14/100\n",
            "5359/5359 [==============================] - 1s 218us/step - loss: 0.3679 - accuracy: 0.8416 - val_loss: 0.4038 - val_accuracy: 0.8531\n",
            "Epoch 15/100\n",
            "5359/5359 [==============================] - 1s 199us/step - loss: 0.3639 - accuracy: 0.8421 - val_loss: 0.3940 - val_accuracy: 0.8474\n",
            "Epoch 16/100\n",
            "5359/5359 [==============================] - 1s 200us/step - loss: 0.3631 - accuracy: 0.8419 - val_loss: 0.4170 - val_accuracy: 0.8466\n",
            "Epoch 17/100\n",
            "5359/5359 [==============================] - 1s 221us/step - loss: 0.3669 - accuracy: 0.8416 - val_loss: 0.4114 - val_accuracy: 0.8519\n",
            "Epoch 18/100\n",
            "5359/5359 [==============================] - 1s 206us/step - loss: 0.3638 - accuracy: 0.8391 - val_loss: 0.4042 - val_accuracy: 0.8508\n",
            "Epoch 19/100\n",
            "5359/5359 [==============================] - 1s 202us/step - loss: 0.3614 - accuracy: 0.8433 - val_loss: 0.3961 - val_accuracy: 0.8493\n",
            "Epoch 20/100\n",
            "5359/5359 [==============================] - 1s 201us/step - loss: 0.3667 - accuracy: 0.8386 - val_loss: 0.4263 - val_accuracy: 0.8538\n",
            "Epoch 21/100\n",
            "5359/5359 [==============================] - 1s 205us/step - loss: 0.3609 - accuracy: 0.8390 - val_loss: 0.3841 - val_accuracy: 0.8519\n",
            "Epoch 22/100\n",
            "5359/5359 [==============================] - 1s 216us/step - loss: 0.3635 - accuracy: 0.8388 - val_loss: 0.3962 - val_accuracy: 0.8527\n",
            "Epoch 23/100\n",
            "5359/5359 [==============================] - 1s 222us/step - loss: 0.3605 - accuracy: 0.8377 - val_loss: 0.3853 - val_accuracy: 0.8516\n",
            "Epoch 24/100\n",
            "5359/5359 [==============================] - 1s 201us/step - loss: 0.3633 - accuracy: 0.8395 - val_loss: 0.4242 - val_accuracy: 0.8557\n",
            "Epoch 25/100\n",
            "5359/5359 [==============================] - 1s 200us/step - loss: 0.3640 - accuracy: 0.8416 - val_loss: 0.3919 - val_accuracy: 0.8504\n",
            "Epoch 26/100\n",
            "5359/5359 [==============================] - 1s 228us/step - loss: 0.3603 - accuracy: 0.8406 - val_loss: 0.4081 - val_accuracy: 0.8523\n",
            "Epoch 27/100\n",
            "5359/5359 [==============================] - 1s 230us/step - loss: 0.3594 - accuracy: 0.8390 - val_loss: 0.4093 - val_accuracy: 0.8519\n",
            "Epoch 28/100\n",
            "5359/5359 [==============================] - 1s 230us/step - loss: 0.3642 - accuracy: 0.8427 - val_loss: 0.3961 - val_accuracy: 0.8519\n",
            "Epoch 29/100\n",
            "5359/5359 [==============================] - 1s 215us/step - loss: 0.3648 - accuracy: 0.8408 - val_loss: 0.4038 - val_accuracy: 0.8531\n",
            "Epoch 30/100\n",
            "5359/5359 [==============================] - 1s 199us/step - loss: 0.3580 - accuracy: 0.8386 - val_loss: 0.3923 - val_accuracy: 0.8516\n",
            "Epoch 31/100\n",
            "5359/5359 [==============================] - 1s 201us/step - loss: 0.3647 - accuracy: 0.8399 - val_loss: 0.4117 - val_accuracy: 0.8523\n",
            "Epoch 32/100\n",
            "5359/5359 [==============================] - 1s 211us/step - loss: 0.3633 - accuracy: 0.8391 - val_loss: 0.4236 - val_accuracy: 0.8508\n",
            "Epoch 33/100\n",
            "5359/5359 [==============================] - 1s 231us/step - loss: 0.3604 - accuracy: 0.8416 - val_loss: 0.4350 - val_accuracy: 0.8497\n",
            "Epoch 34/100\n",
            "5359/5359 [==============================] - 1s 261us/step - loss: 0.3624 - accuracy: 0.8386 - val_loss: 0.3991 - val_accuracy: 0.8516\n",
            "Epoch 35/100\n",
            "5359/5359 [==============================] - 1s 211us/step - loss: 0.3611 - accuracy: 0.8414 - val_loss: 0.4195 - val_accuracy: 0.8542\n",
            "Epoch 36/100\n",
            "5359/5359 [==============================] - 1s 238us/step - loss: 0.3625 - accuracy: 0.8393 - val_loss: 0.4083 - val_accuracy: 0.8527\n",
            "Epoch 37/100\n",
            "5359/5359 [==============================] - 1s 212us/step - loss: 0.3626 - accuracy: 0.8412 - val_loss: 0.4024 - val_accuracy: 0.8497\n",
            "Epoch 38/100\n",
            "5359/5359 [==============================] - 1s 216us/step - loss: 0.3585 - accuracy: 0.8425 - val_loss: 0.4242 - val_accuracy: 0.8527\n",
            "Epoch 39/100\n",
            "5359/5359 [==============================] - 1s 209us/step - loss: 0.3642 - accuracy: 0.8378 - val_loss: 0.3949 - val_accuracy: 0.8523\n",
            "Epoch 40/100\n",
            "5359/5359 [==============================] - 1s 225us/step - loss: 0.3559 - accuracy: 0.8421 - val_loss: 0.4013 - val_accuracy: 0.8497\n",
            "Epoch 41/100\n",
            "5359/5359 [==============================] - 1s 241us/step - loss: 0.3606 - accuracy: 0.8408 - val_loss: 0.4270 - val_accuracy: 0.8482\n",
            "Epoch 42/100\n",
            "5359/5359 [==============================] - 1s 214us/step - loss: 0.3601 - accuracy: 0.8390 - val_loss: 0.3986 - val_accuracy: 0.8527\n",
            "Epoch 43/100\n",
            "5359/5359 [==============================] - 1s 213us/step - loss: 0.3635 - accuracy: 0.8378 - val_loss: 0.4280 - val_accuracy: 0.8478\n",
            "Epoch 44/100\n",
            "5359/5359 [==============================] - 1s 243us/step - loss: 0.3582 - accuracy: 0.8360 - val_loss: 0.4025 - val_accuracy: 0.8519\n",
            "Epoch 45/100\n",
            "5359/5359 [==============================] - 1s 241us/step - loss: 0.3569 - accuracy: 0.8434 - val_loss: 0.3959 - val_accuracy: 0.8463\n",
            "Epoch 46/100\n",
            "5359/5359 [==============================] - 1s 207us/step - loss: 0.3588 - accuracy: 0.8408 - val_loss: 0.3947 - val_accuracy: 0.8474\n",
            "Epoch 47/100\n",
            "5359/5359 [==============================] - 1s 218us/step - loss: 0.3636 - accuracy: 0.8408 - val_loss: 0.3844 - val_accuracy: 0.8554\n",
            "Epoch 48/100\n",
            "5359/5359 [==============================] - 1s 212us/step - loss: 0.3552 - accuracy: 0.8367 - val_loss: 0.4167 - val_accuracy: 0.8538\n",
            "Epoch 49/100\n",
            "5359/5359 [==============================] - 1s 220us/step - loss: 0.3618 - accuracy: 0.8367 - val_loss: 0.4038 - val_accuracy: 0.8497\n",
            "Epoch 50/100\n",
            "5359/5359 [==============================] - 1s 216us/step - loss: 0.3632 - accuracy: 0.8391 - val_loss: 0.4166 - val_accuracy: 0.8523\n",
            "Epoch 51/100\n",
            "5359/5359 [==============================] - 1s 211us/step - loss: 0.3560 - accuracy: 0.8416 - val_loss: 0.4262 - val_accuracy: 0.8516\n",
            "Epoch 52/100\n",
            "5359/5359 [==============================] - 1s 213us/step - loss: 0.3584 - accuracy: 0.8444 - val_loss: 0.4124 - val_accuracy: 0.8504\n",
            "Epoch 53/100\n",
            "5359/5359 [==============================] - 1s 241us/step - loss: 0.3577 - accuracy: 0.8397 - val_loss: 0.4255 - val_accuracy: 0.8542\n",
            "Epoch 54/100\n",
            "5359/5359 [==============================] - 1s 210us/step - loss: 0.3560 - accuracy: 0.8451 - val_loss: 0.4007 - val_accuracy: 0.8504\n",
            "Epoch 55/100\n",
            "5359/5359 [==============================] - 1s 224us/step - loss: 0.3651 - accuracy: 0.8416 - val_loss: 0.3977 - val_accuracy: 0.8527\n",
            "Epoch 56/100\n",
            "5359/5359 [==============================] - 1s 215us/step - loss: 0.3597 - accuracy: 0.8412 - val_loss: 0.4135 - val_accuracy: 0.8516\n",
            "Epoch 57/100\n",
            "5359/5359 [==============================] - 1s 217us/step - loss: 0.3646 - accuracy: 0.8412 - val_loss: 0.4228 - val_accuracy: 0.8512\n",
            "Epoch 58/100\n",
            "5359/5359 [==============================] - 1s 225us/step - loss: 0.3579 - accuracy: 0.8393 - val_loss: 0.4179 - val_accuracy: 0.8519\n",
            "Epoch 59/100\n",
            "5359/5359 [==============================] - 1s 221us/step - loss: 0.3616 - accuracy: 0.8412 - val_loss: 0.4094 - val_accuracy: 0.8531\n",
            "Epoch 60/100\n",
            "5359/5359 [==============================] - 1s 216us/step - loss: 0.3624 - accuracy: 0.8399 - val_loss: 0.4203 - val_accuracy: 0.8523\n",
            "Epoch 61/100\n",
            "5359/5359 [==============================] - 1s 212us/step - loss: 0.3640 - accuracy: 0.8410 - val_loss: 0.4168 - val_accuracy: 0.8561\n",
            "Epoch 62/100\n",
            "5359/5359 [==============================] - 1s 233us/step - loss: 0.3571 - accuracy: 0.8438 - val_loss: 0.4124 - val_accuracy: 0.8554\n",
            "Epoch 63/100\n",
            "5359/5359 [==============================] - 1s 224us/step - loss: 0.3562 - accuracy: 0.8440 - val_loss: 0.3993 - val_accuracy: 0.8504\n",
            "Epoch 64/100\n",
            "5359/5359 [==============================] - 1s 205us/step - loss: 0.3520 - accuracy: 0.8425 - val_loss: 0.4081 - val_accuracy: 0.8550\n",
            "Epoch 65/100\n",
            "5359/5359 [==============================] - 1s 222us/step - loss: 0.3590 - accuracy: 0.8410 - val_loss: 0.4167 - val_accuracy: 0.8531\n",
            "Epoch 66/100\n",
            "5359/5359 [==============================] - 1s 211us/step - loss: 0.3591 - accuracy: 0.8397 - val_loss: 0.4234 - val_accuracy: 0.8523\n",
            "Epoch 67/100\n",
            "5359/5359 [==============================] - 1s 235us/step - loss: 0.3584 - accuracy: 0.8434 - val_loss: 0.4254 - val_accuracy: 0.8516\n",
            "Epoch 68/100\n",
            "5359/5359 [==============================] - 1s 215us/step - loss: 0.3582 - accuracy: 0.8412 - val_loss: 0.4317 - val_accuracy: 0.8489\n",
            "Epoch 69/100\n",
            "5359/5359 [==============================] - 1s 220us/step - loss: 0.3589 - accuracy: 0.8405 - val_loss: 0.4117 - val_accuracy: 0.8474\n",
            "Epoch 70/100\n",
            "5359/5359 [==============================] - 1s 235us/step - loss: 0.3542 - accuracy: 0.8360 - val_loss: 0.4250 - val_accuracy: 0.8516\n",
            "Epoch 71/100\n",
            "5359/5359 [==============================] - 1s 236us/step - loss: 0.3570 - accuracy: 0.8425 - val_loss: 0.3991 - val_accuracy: 0.8501\n",
            "Epoch 72/100\n",
            "5359/5359 [==============================] - 1s 226us/step - loss: 0.3625 - accuracy: 0.8418 - val_loss: 0.4158 - val_accuracy: 0.8523\n",
            "Epoch 73/100\n",
            "5359/5359 [==============================] - 1s 241us/step - loss: 0.3576 - accuracy: 0.8403 - val_loss: 0.4030 - val_accuracy: 0.8504\n",
            "Epoch 74/100\n",
            "5359/5359 [==============================] - 1s 224us/step - loss: 0.3600 - accuracy: 0.8384 - val_loss: 0.3714 - val_accuracy: 0.8557\n",
            "Epoch 75/100\n",
            "5359/5359 [==============================] - 1s 219us/step - loss: 0.3600 - accuracy: 0.8395 - val_loss: 0.4374 - val_accuracy: 0.8489\n",
            "Epoch 76/100\n",
            "5359/5359 [==============================] - 1s 222us/step - loss: 0.3575 - accuracy: 0.8440 - val_loss: 0.4095 - val_accuracy: 0.8504\n",
            "Epoch 77/100\n",
            "5359/5359 [==============================] - 1s 216us/step - loss: 0.3629 - accuracy: 0.8391 - val_loss: 0.4411 - val_accuracy: 0.8482\n",
            "Epoch 78/100\n",
            "5359/5359 [==============================] - 1s 208us/step - loss: 0.3609 - accuracy: 0.8377 - val_loss: 0.4258 - val_accuracy: 0.8531\n",
            "Epoch 79/100\n",
            "5359/5359 [==============================] - 1s 216us/step - loss: 0.3596 - accuracy: 0.8438 - val_loss: 0.3918 - val_accuracy: 0.8508\n",
            "Epoch 80/100\n",
            "5359/5359 [==============================] - 1s 220us/step - loss: 0.3558 - accuracy: 0.8410 - val_loss: 0.4025 - val_accuracy: 0.8489\n",
            "Epoch 81/100\n",
            "5359/5359 [==============================] - 1s 210us/step - loss: 0.3601 - accuracy: 0.8410 - val_loss: 0.4125 - val_accuracy: 0.8493\n",
            "Epoch 82/100\n",
            "5359/5359 [==============================] - 1s 213us/step - loss: 0.3530 - accuracy: 0.8382 - val_loss: 0.4388 - val_accuracy: 0.8474\n",
            "Epoch 83/100\n",
            "5359/5359 [==============================] - 1s 226us/step - loss: 0.3587 - accuracy: 0.8453 - val_loss: 0.4433 - val_accuracy: 0.8512\n",
            "Epoch 84/100\n",
            "5359/5359 [==============================] - 1s 246us/step - loss: 0.3660 - accuracy: 0.8408 - val_loss: 0.4104 - val_accuracy: 0.8448\n",
            "Epoch 85/100\n",
            "5359/5359 [==============================] - 1s 211us/step - loss: 0.3595 - accuracy: 0.8380 - val_loss: 0.4115 - val_accuracy: 0.8497\n",
            "Epoch 86/100\n",
            "5359/5359 [==============================] - 1s 251us/step - loss: 0.3577 - accuracy: 0.8412 - val_loss: 0.4143 - val_accuracy: 0.8550\n",
            "Epoch 87/100\n",
            "5359/5359 [==============================] - 1s 258us/step - loss: 0.3588 - accuracy: 0.8403 - val_loss: 0.3903 - val_accuracy: 0.8508\n",
            "Epoch 88/100\n",
            "5359/5359 [==============================] - 1s 220us/step - loss: 0.3594 - accuracy: 0.8440 - val_loss: 0.4007 - val_accuracy: 0.8538\n",
            "Epoch 89/100\n",
            "5359/5359 [==============================] - 1s 218us/step - loss: 0.3565 - accuracy: 0.8427 - val_loss: 0.4166 - val_accuracy: 0.8516\n",
            "Epoch 90/100\n",
            "5359/5359 [==============================] - 1s 211us/step - loss: 0.3593 - accuracy: 0.8446 - val_loss: 0.4237 - val_accuracy: 0.8546\n",
            "Epoch 91/100\n",
            "5359/5359 [==============================] - 1s 229us/step - loss: 0.3657 - accuracy: 0.8317 - val_loss: 0.4199 - val_accuracy: 0.8493\n",
            "Epoch 92/100\n",
            "5359/5359 [==============================] - 1s 222us/step - loss: 0.3628 - accuracy: 0.8408 - val_loss: 0.4310 - val_accuracy: 0.8527\n",
            "Epoch 93/100\n",
            "5359/5359 [==============================] - 1s 208us/step - loss: 0.3594 - accuracy: 0.8444 - val_loss: 0.3999 - val_accuracy: 0.8531\n",
            "Epoch 94/100\n",
            "5359/5359 [==============================] - 1s 211us/step - loss: 0.3577 - accuracy: 0.8421 - val_loss: 0.4285 - val_accuracy: 0.8512\n",
            "Epoch 95/100\n",
            "5359/5359 [==============================] - 1s 223us/step - loss: 0.3594 - accuracy: 0.8378 - val_loss: 0.4173 - val_accuracy: 0.8508\n",
            "Epoch 96/100\n",
            "5359/5359 [==============================] - 1s 212us/step - loss: 0.3634 - accuracy: 0.8380 - val_loss: 0.4224 - val_accuracy: 0.8466\n",
            "Epoch 97/100\n",
            "5359/5359 [==============================] - 1s 252us/step - loss: 0.3619 - accuracy: 0.8377 - val_loss: 0.4187 - val_accuracy: 0.8489\n",
            "Epoch 98/100\n",
            "5359/5359 [==============================] - 1s 218us/step - loss: 0.3589 - accuracy: 0.8429 - val_loss: 0.4549 - val_accuracy: 0.8489\n",
            "Epoch 99/100\n",
            "5359/5359 [==============================] - 1s 223us/step - loss: 0.3558 - accuracy: 0.8444 - val_loss: 0.4366 - val_accuracy: 0.8508\n",
            "Epoch 100/100\n",
            "5359/5359 [==============================] - 1s 218us/step - loss: 0.3510 - accuracy: 0.8434 - val_loss: 0.4163 - val_accuracy: 0.8516\n"
          ],
          "name": "stdout"
        }
      ]
    },
    {
      "cell_type": "code",
      "metadata": {
        "id": "wxvIDnJXZFOO",
        "colab_type": "code",
        "colab": {}
      },
      "source": [
        "y_predict=classifier.predict(X_test)"
      ],
      "execution_count": 64,
      "outputs": []
    },
    {
      "cell_type": "code",
      "metadata": {
        "id": "eoHEcfB1d7Ah",
        "colab_type": "code",
        "colab": {}
      },
      "source": [
        "y_predict=(y_predict>.5)"
      ],
      "execution_count": 65,
      "outputs": []
    },
    {
      "cell_type": "code",
      "metadata": {
        "id": "mGZEXkzleEVA",
        "colab_type": "code",
        "colab": {}
      },
      "source": [
        "from sklearn.metrics import confusion_matrix,accuracy_score"
      ],
      "execution_count": 43,
      "outputs": []
    },
    {
      "cell_type": "code",
      "metadata": {
        "id": "NkE0HoaTeaAE",
        "colab_type": "code",
        "colab": {}
      },
      "source": [
        "cm=confusion_matrix(y_test,y_predict)"
      ],
      "execution_count": 45,
      "outputs": []
    },
    {
      "cell_type": "code",
      "metadata": {
        "id": "LVWFbh8jeiJN",
        "colab_type": "code",
        "colab": {
          "base_uri": "https://localhost:8080/",
          "height": 51
        },
        "outputId": "3930fcd7-c031-4398-cf5b-6b2f2ebff4cc"
      },
      "source": [
        "cm"
      ],
      "execution_count": 46,
      "outputs": [
        {
          "output_type": "execute_result",
          "data": {
            "text/plain": [
              "array([[1540,   55],\n",
              "       [ 211,  194]])"
            ]
          },
          "metadata": {
            "tags": []
          },
          "execution_count": 46
        }
      ]
    },
    {
      "cell_type": "code",
      "metadata": {
        "id": "HDkBH218enCe",
        "colab_type": "code",
        "colab": {}
      },
      "source": [
        "score=accuracy_score(y_predict,y_test)"
      ],
      "execution_count": 47,
      "outputs": []
    },
    {
      "cell_type": "code",
      "metadata": {
        "id": "LBIHqOiAezFp",
        "colab_type": "code",
        "colab": {
          "base_uri": "https://localhost:8080/",
          "height": 34
        },
        "outputId": "6f6e434a-3460-4ba4-9936-11f07623ad00"
      },
      "source": [
        "score"
      ],
      "execution_count": 48,
      "outputs": [
        {
          "output_type": "execute_result",
          "data": {
            "text/plain": [
              "0.867"
            ]
          },
          "metadata": {
            "tags": []
          },
          "execution_count": 48
        }
      ]
    },
    {
      "cell_type": "code",
      "metadata": {
        "id": "WadV7oGEe0fv",
        "colab_type": "code",
        "colab": {
          "base_uri": "https://localhost:8080/",
          "height": 34
        },
        "outputId": "622f2b89-d38e-4a00-8d7d-225530e28090"
      },
      "source": [
        "score=accuracy_score(y_predict,y_test)\n",
        "score"
      ],
      "execution_count": 58,
      "outputs": [
        {
          "output_type": "execute_result",
          "data": {
            "text/plain": [
              "0.86"
            ]
          },
          "metadata": {
            "tags": []
          },
          "execution_count": 58
        }
      ]
    },
    {
      "cell_type": "code",
      "metadata": {
        "id": "hKTHXvurf8qX",
        "colab_type": "code",
        "colab": {
          "base_uri": "https://localhost:8080/",
          "height": 34
        },
        "outputId": "0854f930-fe8d-41d6-dec8-26f5c3d41e3a"
      },
      "source": [
        "score=accuracy_score(y_predict,y_test)\n",
        "score"
      ],
      "execution_count": 66,
      "outputs": [
        {
          "output_type": "execute_result",
          "data": {
            "text/plain": [
              "0.8645"
            ]
          },
          "metadata": {
            "tags": []
          },
          "execution_count": 66
        }
      ]
    },
    {
      "cell_type": "code",
      "metadata": {
        "id": "3ouXoMh0hQOo",
        "colab_type": "code",
        "colab": {}
      },
      "source": [
        ""
      ],
      "execution_count": null,
      "outputs": []
    }
  ]
}